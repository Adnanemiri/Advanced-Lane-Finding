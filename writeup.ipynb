{
 "cells": [
  {
   "cell_type": "markdown",
   "metadata": {},
   "source": [
    "### Writeup / README\n",
    "\n",
    "Here are the steps I took to build the pipeline"
   ]
  },
  {
   "cell_type": "markdown",
   "metadata": {},
   "source": [
    "## 1. Camera Calibration\n",
    "\n",
    "The goal of camera calibration is to find disstortion coefficients and the camera's parameters that will enable us to project 3D to points in real world to 2D points in the image plan. The calibration was done using 20 chessboard images taken from diffent angles.\n",
    "\n",
    "[image1]: ./examples/undistort.png\n",
    "\n",
    "![alt text][image1]"
   ]
  },
  {
   "cell_type": "markdown",
   "metadata": {},
   "source": [
    "## 2. Apply a distortion correction to test images.\n",
    "\n",
    "Now that I have the camera matrix and the coefficients of disstortion, I can undistort test images.\n",
    "\n",
    "[image2]: ./examples/undistort_test.png\n",
    "\n",
    "![alt text][image2]"
   ]
  },
  {
   "cell_type": "markdown",
   "metadata": {},
   "source": [
    "## 3. Use color transforms, gradients, etc., to create a thresholded binary image.\n",
    "\n",
    "In this part I applied color transforms and gradients in order to create a binary thresholded image containing likely lane pixels \n",
    "\n",
    "[image3]: ./examples/binary.png \"Thresholded\"\n",
    "\n",
    "![alt text][image3]"
   ]
  },
  {
   "cell_type": "markdown",
   "metadata": {},
   "source": [
    "## 4. Apply a perspective transform to rectify binary image (\"birds-eye view\").\n",
    "\n",
    "In this part I rectified the binary image to have a birds-eye view :\n",
    "\n",
    "[image4]: ./examples/warped.png\n",
    "![alt text][image4]"
   ]
  },
  {
   "cell_type": "markdown",
   "metadata": {},
   "source": [
    "## 5. Detect lane pixels and fit to find the lane boundary.\n",
    "\n",
    "After rectifying our test images, I detected lane pixels and fitted the lanes.\n",
    "\n",
    "[image5]: ./examples/poly.png\n",
    "![alt text][image5]"
   ]
  },
  {
   "cell_type": "markdown",
   "metadata": {},
   "source": [
    "## 7. Warp the detected lane boundaries back onto the original image.\n",
    "\n",
    "I warped back the detected lanes by inversing the perspective transform of the detected lanes and road.\n",
    "\n",
    "[image6]: ./examples/reverse.png\n",
    "![alt text][image6]"
   ]
  }
 ],
 "metadata": {
  "kernelspec": {
   "display_name": "Python 3",
   "language": "python",
   "name": "python3"
  },
  "language_info": {
   "codemirror_mode": {
    "name": "ipython",
    "version": 3
   },
   "file_extension": ".py",
   "mimetype": "text/x-python",
   "name": "python",
   "nbconvert_exporter": "python",
   "pygments_lexer": "ipython3",
   "version": "3.6.3"
  }
 },
 "nbformat": 4,
 "nbformat_minor": 2
}
